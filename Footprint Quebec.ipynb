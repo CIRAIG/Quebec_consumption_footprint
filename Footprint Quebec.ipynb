{
 "cells": [
  {
   "cell_type": "code",
   "execution_count": 1,
   "metadata": {},
   "outputs": [],
   "source": [
    "import pandas as pd\n",
    "import numpy as np\n",
    "import pymrio"
   ]
  },
  {
   "cell_type": "code",
   "execution_count": 2,
   "metadata": {},
   "outputs": [],
   "source": [
    "io = pymrio.parse_exiobase3('C://Users/Maxime/Desktop/Thesis/Bdd/IOT_2011_pxp/')"
   ]
  },
  {
   "cell_type": "code",
   "execution_count": 3,
   "metadata": {},
   "outputs": [
    {
     "data": {
      "text/plain": [
       "<pymrio.core.mriosystem.IOSystem at 0x1e78b55ac18>"
      ]
     },
     "execution_count": 3,
     "metadata": {},
     "output_type": "execute_result"
    }
   ],
   "source": [
    "io.calc_all()"
   ]
  },
  {
   "cell_type": "code",
   "execution_count": 4,
   "metadata": {},
   "outputs": [],
   "source": [
    "# emissions in $ and not in M$\n",
    "io.satellite.S.loc[[i for i in io.satellite.S.index if io.satellite.unit.loc[i,'unit'] not in ['M.EUR','1000 p','M.hr']]]=io.satellite.S.loc[[i for i in io.satellite.S.index if io.satellite.unit.loc[i,'unit'] not in ['M.EUR','1000 p','M.hr']]]/1000000"
   ]
  },
  {
   "cell_type": "code",
   "execution_count": 5,
   "metadata": {
    "scrolled": true
   },
   "outputs": [],
   "source": [
    "S = io.satellite.S.copy()\n",
    "S = pd.concat([S,S.loc[:,[i for i in io.satellite.S.columns if i[0] == 'CA']]],axis=1)\n",
    "countries = [i[0] for i in S.iloc[:,::200].columns]\n",
    "countries[-1]='QC'\n",
    "S.columns = pd.MultiIndex.from_product([countries,[i[1] for i in S.iloc[:,:200].columns]],names=('region', 'sector'))\n",
    "S[('QC','grid_mix')] = pd.Series(0, S.index)"
   ]
  },
  {
   "cell_type": "code",
   "execution_count": 6,
   "metadata": {},
   "outputs": [],
   "source": [
    "C = pd.concat([pd.read_excel(\n",
    "                'C://Users/Maxime/Desktop/Thesis/Modules_Python/pylcaio/src/Data/characterisationEXIOBASE3_adaptedFromEXIOBASE2.xlsx',\n",
    "                'Q_emission'),\n",
    "                pd.read_excel(\n",
    "                'C://Users/Maxime/Desktop/Thesis/Modules_Python/pylcaio/src/Data/characterisationEXIOBASE3_adaptedFromEXIOBASE2.xlsx',\n",
    "                    'Q_materials'),\n",
    "                pd.read_excel(\n",
    "                'C://Users/Maxime/Desktop/Thesis/Modules_Python/pylcaio/src/Data/characterisationEXIOBASE3_adaptedFromEXIOBASE2.xlsx',\n",
    "                    'Q_resources'),\n",
    "                pd.read_excel(\n",
    "                'C://Users/Maxime/Desktop/Thesis/Modules_Python/pylcaio/src/Data/characterisationEXIOBASE3_adaptedFromEXIOBASE2.xlsx',\n",
    "                    'Q_factor_inputs')], sort=False).fillna(0)"
   ]
  },
  {
   "cell_type": "code",
   "execution_count": 7,
   "metadata": {},
   "outputs": [],
   "source": [
    "with open('technology_matrix.pickle','rb') as f:\n",
    "    A = pd.read_pickle(f)\n",
    "    \n",
    "with open('final_demand_1st_quintile.pickle','rb') as f:\n",
    "    Y = pd.read_pickle(f)\n",
    "other_quintiles = ['2nd_quintile','3rd_quintile','4th_quintile','5th_quintile']\n",
    "for quintile in other_quintiles:\n",
    "    with open('final_demand_'+str(quintile)+'.pickle','rb') as f:\n",
    "        df = pd.read_pickle(f)\n",
    "    Y = pd.concat([Y, df],axis=1)\n",
    "Y.columns = ['1st_quintile','2nd_quintile','3rd_quintile','4th_quintile','5th_quintile']"
   ]
  },
  {
   "cell_type": "code",
   "execution_count": 8,
   "metadata": {},
   "outputs": [],
   "source": [
    "I = pd.DataFrame(np.eye(len(A)),A.index,A.columns)\n",
    "X = pd.DataFrame(np.linalg.solve(I-A,Y),A.index, Y.columns)"
   ]
  },
  {
   "cell_type": "code",
   "execution_count": 9,
   "metadata": {},
   "outputs": [],
   "source": [
    "indirect_emissions = S.dot(X)\n",
    "direct_emissions = (pd.DataFrame(io.satellite.FY.loc[:, ('CA','Final consumption expenditure by households')])/\n",
    "                    io.Y.loc[:,('CA','Final consumption expenditure by households')].sum()/1000000)\n",
    "direct_emissions = pd.concat([direct_emissions]*5,axis=1)\n",
    "direct_emissions.columns = Y.columns\n",
    "direct_emissions *= Y.sum()\n",
    "total_emissions = indirect_emissions + direct_emissions"
   ]
  },
  {
   "cell_type": "code",
   "execution_count": 10,
   "metadata": {},
   "outputs": [],
   "source": [
    "GWP_per_quintile_per_household = pd.DataFrame(C.dot(total_emissions).iloc[5]*0.72)"
   ]
  },
  {
   "cell_type": "code",
   "execution_count": 11,
   "metadata": {},
   "outputs": [
    {
     "data": {
      "text/html": [
       "<div>\n",
       "<style scoped>\n",
       "    .dataframe tbody tr th:only-of-type {\n",
       "        vertical-align: middle;\n",
       "    }\n",
       "\n",
       "    .dataframe tbody tr th {\n",
       "        vertical-align: top;\n",
       "    }\n",
       "\n",
       "    .dataframe thead tr th {\n",
       "        text-align: left;\n",
       "    }\n",
       "</style>\n",
       "<table border=\"1\" class=\"dataframe\">\n",
       "  <thead>\n",
       "    <tr>\n",
       "      <th></th>\n",
       "      <th>Problem oriented approach: baseline (CML, 2001)</th>\n",
       "    </tr>\n",
       "    <tr>\n",
       "      <th></th>\n",
       "      <th>global warming (GWP100)</th>\n",
       "    </tr>\n",
       "    <tr>\n",
       "      <th></th>\n",
       "      <th>GWP100 (IPCC, 2007)</th>\n",
       "    </tr>\n",
       "    <tr>\n",
       "      <th></th>\n",
       "      <th>kg CO2 eq.</th>\n",
       "    </tr>\n",
       "  </thead>\n",
       "  <tbody>\n",
       "    <tr>\n",
       "      <th>1st_quintile</th>\n",
       "      <td>11913.104338</td>\n",
       "    </tr>\n",
       "    <tr>\n",
       "      <th>2nd_quintile</th>\n",
       "      <td>18067.072252</td>\n",
       "    </tr>\n",
       "    <tr>\n",
       "      <th>3rd_quintile</th>\n",
       "      <td>25122.874704</td>\n",
       "    </tr>\n",
       "    <tr>\n",
       "      <th>4th_quintile</th>\n",
       "      <td>32224.358209</td>\n",
       "    </tr>\n",
       "    <tr>\n",
       "      <th>5th_quintile</th>\n",
       "      <td>46382.813640</td>\n",
       "    </tr>\n",
       "  </tbody>\n",
       "</table>\n",
       "</div>"
      ],
      "text/plain": [
       "             Problem oriented approach: baseline (CML, 2001)\n",
       "                                     global warming (GWP100)\n",
       "                                         GWP100 (IPCC, 2007)\n",
       "                                                  kg CO2 eq.\n",
       "1st_quintile                                    11913.104338\n",
       "2nd_quintile                                    18067.072252\n",
       "3rd_quintile                                    25122.874704\n",
       "4th_quintile                                    32224.358209\n",
       "5th_quintile                                    46382.813640"
      ]
     },
     "execution_count": 11,
     "metadata": {},
     "output_type": "execute_result"
    }
   ],
   "source": [
    "GWP_per_quintile_per_household"
   ]
  },
  {
   "cell_type": "code",
   "execution_count": 12,
   "metadata": {},
   "outputs": [],
   "source": [
    "GWP_per_quintile_per_dollar = pd.DataFrame(C.dot(total_emissions).iloc[5]*0.72) / pd.DataFrame(Y.sum()).values"
   ]
  },
  {
   "cell_type": "code",
   "execution_count": 13,
   "metadata": {
    "scrolled": true
   },
   "outputs": [
    {
     "data": {
      "text/html": [
       "<div>\n",
       "<style scoped>\n",
       "    .dataframe tbody tr th:only-of-type {\n",
       "        vertical-align: middle;\n",
       "    }\n",
       "\n",
       "    .dataframe tbody tr th {\n",
       "        vertical-align: top;\n",
       "    }\n",
       "\n",
       "    .dataframe thead tr th {\n",
       "        text-align: left;\n",
       "    }\n",
       "</style>\n",
       "<table border=\"1\" class=\"dataframe\">\n",
       "  <thead>\n",
       "    <tr>\n",
       "      <th></th>\n",
       "      <th>Problem oriented approach: baseline (CML, 2001)</th>\n",
       "    </tr>\n",
       "    <tr>\n",
       "      <th></th>\n",
       "      <th>global warming (GWP100)</th>\n",
       "    </tr>\n",
       "    <tr>\n",
       "      <th></th>\n",
       "      <th>GWP100 (IPCC, 2007)</th>\n",
       "    </tr>\n",
       "    <tr>\n",
       "      <th></th>\n",
       "      <th>kg CO2 eq.</th>\n",
       "    </tr>\n",
       "  </thead>\n",
       "  <tbody>\n",
       "    <tr>\n",
       "      <th>1st_quintile</th>\n",
       "      <td>0.514747</td>\n",
       "    </tr>\n",
       "    <tr>\n",
       "      <th>2nd_quintile</th>\n",
       "      <td>0.552483</td>\n",
       "    </tr>\n",
       "    <tr>\n",
       "      <th>3rd_quintile</th>\n",
       "      <td>0.542282</td>\n",
       "    </tr>\n",
       "    <tr>\n",
       "      <th>4th_quintile</th>\n",
       "      <td>0.558689</td>\n",
       "    </tr>\n",
       "    <tr>\n",
       "      <th>5th_quintile</th>\n",
       "      <td>0.559020</td>\n",
       "    </tr>\n",
       "  </tbody>\n",
       "</table>\n",
       "</div>"
      ],
      "text/plain": [
       "             Problem oriented approach: baseline (CML, 2001)\n",
       "                                     global warming (GWP100)\n",
       "                                         GWP100 (IPCC, 2007)\n",
       "                                                  kg CO2 eq.\n",
       "1st_quintile                                        0.514747\n",
       "2nd_quintile                                        0.552483\n",
       "3rd_quintile                                        0.542282\n",
       "4th_quintile                                        0.558689\n",
       "5th_quintile                                        0.559020"
      ]
     },
     "execution_count": 13,
     "metadata": {},
     "output_type": "execute_result"
    }
   ],
   "source": [
    "GWP_per_quintile_per_dollar"
   ]
  },
  {
   "cell_type": "code",
   "execution_count": 14,
   "metadata": {},
   "outputs": [],
   "source": [
    "GWP_quebec_total = GWP_per_quintile_per_household.sum()[0]*3395345/5"
   ]
  },
  {
   "cell_type": "code",
   "execution_count": 15,
   "metadata": {},
   "outputs": [
    {
     "name": "stdout",
     "output_type": "stream",
     "text": [
      "90MtCO2eq\n"
     ]
    }
   ],
   "source": [
    "print(str(int(GWP_quebec_total/1000000000))+'MtCO2eq')"
   ]
  },
  {
   "cell_type": "code",
   "execution_count": 16,
   "metadata": {},
   "outputs": [
    {
     "name": "stdout",
     "output_type": "stream",
     "text": [
      "10tCO2eq/habitant\n"
     ]
    }
   ],
   "source": [
    "print(str(int(GWP_quebec_total/1000000000/8.4))+'tCO2eq/habitant')"
   ]
  },
  {
   "cell_type": "code",
   "execution_count": 17,
   "metadata": {},
   "outputs": [
    {
     "name": "stdout",
     "output_type": "stream",
     "text": [
      "25% of Canada's households footprint\n",
      "15% of Canada's total footprint\n"
     ]
    }
   ],
   "source": [
    "print(str(int(GWP_quebec_total/1000000000/360*100))+\"% of Canada's households footprint\")\n",
    "print(str(int(GWP_quebec_total/1000000000/590*100))+\"% of Canada's total footprint\")"
   ]
  },
  {
   "cell_type": "markdown",
   "metadata": {},
   "source": [
    "### Purchases from households"
   ]
  },
  {
   "cell_type": "code",
   "execution_count": null,
   "metadata": {
    "scrolled": true
   },
   "outputs": [],
   "source": [
    "# for each Quebec's quintile\n",
    "(Y.groupby(level='sector').sum()/Y.groupby(level='sector').sum().sum()*100).to_excel('C://Users/Maxime/Desktop/Thesis/Excel/Save.xlsx')"
   ]
  },
  {
   "cell_type": "code",
   "execution_count": null,
   "metadata": {},
   "outputs": [],
   "source": [
    "# for Quebec as a whole\n",
    "(Y.groupby(level='sector').sum().sum(axis=1)*3395345/5).to_excel('C://Users/Maxime/Desktop/Thesis/Excel/Save.xlsx')"
   ]
  },
  {
   "cell_type": "code",
   "execution_count": null,
   "metadata": {},
   "outputs": [],
   "source": [
    "# for Canada\n",
    "(io.Y.loc[:,('CA','Final consumption expenditure by households')].groupby(level='sector').sum()*1000000).to_excel('C://Users/Maxime/Desktop/Thesis/Excel/Save.xlsx')"
   ]
  },
  {
   "cell_type": "markdown",
   "metadata": {},
   "source": [
    "### Contribution analysis"
   ]
  },
  {
   "cell_type": "code",
   "execution_count": null,
   "metadata": {},
   "outputs": [],
   "source": [
    "# per quintile\n",
    "quintile = '5th_quintile'\n",
    "I = pd.DataFrame(np.eye(len(A)),A.index,A.columns)\n",
    "diag_Y = pd.DataFrame(np.diagflat(Y.loc[:,quintile].values*0.72),A.index,A.columns)\n",
    "X = pd.DataFrame(np.linalg.solve(I-A,diag_Y),A.index, diag_Y.columns)\n",
    "D = C.dot(S).dot(X)\n",
    "boo = pd.DataFrame(D.iloc[5])\n",
    "boo.index = boo.index.values\n",
    "boo.to_excel('C://Users/Maxime/Desktop/Thesis/Excel/Save.xlsx')"
   ]
  },
  {
   "cell_type": "code",
   "execution_count": 133,
   "metadata": {
    "scrolled": true
   },
   "outputs": [],
   "source": [
    "# for Quebec as a whole\n",
    "I = pd.DataFrame(np.eye(len(A)),A.index,A.columns)\n",
    "diag_Y = pd.DataFrame(np.diagflat((Y*3395345/5*0.72).sum(axis=1).values),A.index,A.columns)\n",
    "X = pd.DataFrame(np.linalg.solve(I-A,diag_Y),A.index, diag_Y.columns)\n",
    "D = C.dot(S).dot(X)\n",
    "boo = pd.DataFrame(D.iloc[5])\n",
    "boo.index = boo.index.values\n",
    "boo.to_excel('C://Users/Maxime/Desktop/Thesis/Excel/Save.xlsx')"
   ]
  },
  {
   "cell_type": "code",
   "execution_count": null,
   "metadata": {},
   "outputs": [],
   "source": [
    "# for Canada\n",
    "I = pd.DataFrame(np.eye(len(io.A)),io.A.index,io.A.columns)\n",
    "diag_Y = pd.DataFrame(np.diagflat(io.Y.loc[:,('CA','Final consumption expenditure by households')].values),io.A.index,io.A.columns)\n",
    "X = pd.DataFrame(np.linalg.solve(I-io.A,diag_Y*1000000),io.A.index, diag_Y.columns)\n",
    "D = C.dot(io.satellite.S).dot(X)\n",
    "boo = pd.DataFrame(D.iloc[5])\n",
    "boo.index = boo.index.values\n",
    "boo.to_excel('C://Users/Maxime/Desktop/Thesis/Excel/Save.xlsx')"
   ]
  },
  {
   "cell_type": "markdown",
   "metadata": {},
   "source": [
    "### Contribution analyses with higher level classification"
   ]
  },
  {
   "cell_type": "code",
   "execution_count": 81,
   "metadata": {},
   "outputs": [],
   "source": [
    "classification = pd.read_excel('C://Users/Maxime/Desktop/Thesis/BD_conso_QC/Concordance_high_level.xlsx','Sheet2')"
   ]
  },
  {
   "cell_type": "code",
   "execution_count": 82,
   "metadata": {},
   "outputs": [],
   "source": [
    "from collections import defaultdict\n",
    "divide_by_wat = defaultdict(list)\n",
    "\n",
    "for index in classification.index:\n",
    "    for column in classification.columns[2:]:\n",
    "        if classification.loc[index, 'Vision consommateur détaillée'] not in divide_by_wat[classification.loc[index,column]]:\n",
    "            divide_by_wat[classification.loc[index,column]].append(classification.loc[index, 'Vision consommateur détaillée'])\n",
    "del divide_by_wat[np.nan]"
   ]
  },
  {
   "cell_type": "code",
   "execution_count": 132,
   "metadata": {},
   "outputs": [],
   "source": [
    "# per quintile\n",
    "quintile = '5th_quintile'\n",
    "I = pd.DataFrame(np.eye(len(A)),A.index,A.columns)\n",
    "diag_Y = pd.DataFrame(np.diagflat(Y.loc[:,quintile].values*0.72),A.index,A.columns)\n",
    "X = pd.DataFrame(np.linalg.solve(I-A,diag_Y),A.index, diag_Y.columns)\n",
    "D = C.dot(S).dot(X)\n",
    "df = pd.DataFrame(D.iloc[5])"
   ]
  },
  {
   "cell_type": "code",
   "execution_count": 139,
   "metadata": {},
   "outputs": [],
   "source": [
    "# for Quebec as a whole\n",
    "I = pd.DataFrame(np.eye(len(A)),A.index,A.columns)\n",
    "diag_Y = pd.DataFrame(np.diagflat((Y*3395345/5*0.72).sum(axis=1).values),A.index,A.columns)\n",
    "X = pd.DataFrame(np.linalg.solve(I-A,diag_Y),A.index, diag_Y.columns)\n",
    "D = C.dot(S).dot(X)\n",
    "df = pd.DataFrame(D.iloc[5])"
   ]
  },
  {
   "cell_type": "code",
   "execution_count": 140,
   "metadata": {
    "scrolled": true
   },
   "outputs": [],
   "source": [
    "reclassified_df = df.copy()\n",
    "for index in reclassified_df.index:\n",
    "    if len(divide_by_wat[index[1]]) != 0:\n",
    "        reclassified_df.loc[index,:] /= len(divide_by_wat[index[1]])"
   ]
  },
  {
   "cell_type": "code",
   "execution_count": 141,
   "metadata": {
    "scrolled": true
   },
   "outputs": [],
   "source": [
    "reclassified = pd.DataFrame(0,index=pd.MultiIndex.from_product([Y.index.levels[0],classification.loc[:,'Vision consommateur détaillée']]),columns=df.columns)\n",
    "for index in reclassified.index:\n",
    "    for sector in divide_by_wat.keys():\n",
    "        if sector == 'grid_mix' and index[0] != 'QC':\n",
    "            pass\n",
    "        else:\n",
    "            if index[1] in divide_by_wat[sector]:\n",
    "                reclassified.loc[index,:] += reclassified_df.loc[(index[0],sector)]"
   ]
  },
  {
   "cell_type": "code",
   "execution_count": 142,
   "metadata": {
    "scrolled": true
   },
   "outputs": [],
   "source": [
    "reclassified = reclassified.groupby([i[1] for i in reclassified.index]).sum()"
   ]
  },
  {
   "cell_type": "code",
   "execution_count": 143,
   "metadata": {
    "scrolled": true
   },
   "outputs": [],
   "source": [
    "for index in reclassified.index:\n",
    "    for vision_consommateur in classification.index:\n",
    "        if classification.loc[vision_consommateur,'Vision consommateur détaillée'] == index:\n",
    "            reclassified.loc[index,'higher level'] = classification.loc[vision_consommateur,'Vision consommateur']"
   ]
  },
  {
   "cell_type": "code",
   "execution_count": 144,
   "metadata": {},
   "outputs": [],
   "source": [
    "def add_public_services(population_canada, personne_par_menage):\n",
    "    # on assume une responsabilite des services sociaux partages equitablement a travers tous les canadiens! (c'est faux bien entendu)\n",
    "    result = C.dot(io.satellite.S).dot(io.Y)*1000000\n",
    "    return result.loc[[('Problem oriented approach: baseline (CML, 2001)',\n",
    "                  'global warming (GWP100)',\n",
    "                  'GWP100 (IPCC, 2007)',\n",
    "                  'kg CO2 eq.')],('CA','Final consumption expenditure by government')][0]/population_canada*personne_par_menage\n",
    "\n",
    "reclassified.loc['Services administratifs et gouvernementaux',\n",
    "                 ('Problem oriented approach: baseline (CML, 2001)',\n",
    "                  'global warming (GWP100)',\n",
    "                  'GWP100 (IPCC, 2007)',\n",
    "                  'kg CO2 eq.')] = add_public_services(37000000,2.3)"
   ]
  },
  {
   "cell_type": "code",
   "execution_count": 138,
   "metadata": {},
   "outputs": [],
   "source": [
    "# for each quintile, redistribute direct emissions\n",
    "reclassified.loc['Transport quotidien',\n",
    "                 ('Problem oriented approach: baseline (CML, 2001)',\n",
    "                  'global warming (GWP100)',\n",
    "                  'GWP100 (IPCC, 2007)',\n",
    "                  'kg CO2 eq.')] += 0.8 * C.dot(direct_emissions).loc[[('Problem oriented approach: baseline (CML, 2001)',\n",
    "                  'global warming (GWP100)',\n",
    "                  'GWP100 (IPCC, 2007)',\n",
    "                  'kg CO2 eq.')],quintile][0]\n",
    "reclassified.loc['Chauffage/Eclairage/Eau chaude',\n",
    "                 ('Problem oriented approach: baseline (CML, 2001)',\n",
    "                  'global warming (GWP100)',\n",
    "                  'GWP100 (IPCC, 2007)',\n",
    "                  'kg CO2 eq.')] += 0.2 * C.dot(direct_emissions).loc[[('Problem oriented approach: baseline (CML, 2001)',\n",
    "                  'global warming (GWP100)',\n",
    "                  'GWP100 (IPCC, 2007)',\n",
    "                  'kg CO2 eq.')],quintile][0]\n",
    "reclassified.to_excel('C://Users/Maxime/Desktop/Thesis/Excel/Save.xlsx')"
   ]
  },
  {
   "cell_type": "code",
   "execution_count": 145,
   "metadata": {},
   "outputs": [],
   "source": [
    "# for whole Quebec, redistribute direct emissions\n",
    "reclassified.loc['Transport quotidien',\n",
    "                 ('Problem oriented approach: baseline (CML, 2001)',\n",
    "                  'global warming (GWP100)',\n",
    "                  'GWP100 (IPCC, 2007)',\n",
    "                  'kg CO2 eq.')] += 0.8 * C.dot(direct_emissions).loc[[('Problem oriented approach: baseline (CML, 2001)',\n",
    "                  'global warming (GWP100)',\n",
    "                  'GWP100 (IPCC, 2007)',\n",
    "                  'kg CO2 eq.')]].sum().sum()\n",
    "reclassified.loc['Chauffage/Eclairage/Eau chaude',\n",
    "                 ('Problem oriented approach: baseline (CML, 2001)',\n",
    "                  'global warming (GWP100)',\n",
    "                  'GWP100 (IPCC, 2007)',\n",
    "                  'kg CO2 eq.')] += 0.2 * C.dot(direct_emissions).loc[[('Problem oriented approach: baseline (CML, 2001)',\n",
    "                  'global warming (GWP100)',\n",
    "                  'GWP100 (IPCC, 2007)',\n",
    "                  'kg CO2 eq.')]].sum().sum()\n",
    "reclassified.to_excel('C://Users/Maxime/Desktop/Thesis/Excel/Save.xlsx')"
   ]
  },
  {
   "cell_type": "code",
   "execution_count": null,
   "metadata": {},
   "outputs": [],
   "source": []
  }
 ],
 "metadata": {
  "kernelspec": {
   "display_name": "Python 3",
   "language": "python",
   "name": "python3"
  },
  "language_info": {
   "codemirror_mode": {
    "name": "ipython",
    "version": 3
   },
   "file_extension": ".py",
   "mimetype": "text/x-python",
   "name": "python",
   "nbconvert_exporter": "python",
   "pygments_lexer": "ipython3",
   "version": "3.6.8"
  }
 },
 "nbformat": 4,
 "nbformat_minor": 2
}
