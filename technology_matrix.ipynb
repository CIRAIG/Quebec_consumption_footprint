{
 "cells": [
  {
   "cell_type": "code",
   "execution_count": 1,
   "metadata": {},
   "outputs": [],
   "source": [
    "import pymrio\n",
    "import pandas as pd\n",
    "import pickle"
   ]
  },
  {
   "cell_type": "code",
   "execution_count": 3,
   "metadata": {},
   "outputs": [],
   "source": [
    "io = pymrio.parse_exiobase3('C://Users/Maxime/Desktop/Thesis/Bdd/EXIOBASE/monetary/exiobase3.4/IOT_2011_pxp/')"
   ]
  },
  {
   "cell_type": "code",
   "execution_count": 5,
   "metadata": {},
   "outputs": [],
   "source": [
    "new_a = io.A.copy()\n",
    "new_a = pd.concat([new_a,new_a.loc[:,[i for i in io.A.columns if i[0] == 'CA']]],axis=1)\n",
    "new_a = pd.concat([new_a,new_a.loc[[i for i in io.A.columns if i[0] == 'CA'],:]],axis=0)"
   ]
  },
  {
   "cell_type": "code",
   "execution_count": 7,
   "metadata": {
    "scrolled": true
   },
   "outputs": [],
   "source": [
    "countries = [i[0] for i in new_a.iloc[::200].index]\n",
    "countries[-1]='QC'"
   ]
  },
  {
   "cell_type": "code",
   "execution_count": 8,
   "metadata": {
    "scrolled": true
   },
   "outputs": [],
   "source": [
    "new_a.index = pd.MultiIndex.from_product([countries,[i[1] for i in new_a.iloc[:200].index]],names=('region', 'sector'))\n",
    "new_a.columns = pd.MultiIndex.from_product([countries,[i[1] for i in new_a.iloc[:200].index]],names=('region', 'sector'))"
   ]
  },
  {
   "cell_type": "code",
   "execution_count": 10,
   "metadata": {},
   "outputs": [],
   "source": [
    "new_a[('QC','grid_mix')] = pd.Series(0, new_a.index)"
   ]
  },
  {
   "cell_type": "code",
   "execution_count": 12,
   "metadata": {},
   "outputs": [],
   "source": [
    "new_a = pd.concat([new_a,pd.DataFrame(0,pd.MultiIndex.from_product([['QC'],['grid_mix']],names=('region', 'sector')),new_a.columns)],axis=0)"
   ]
  },
  {
   "cell_type": "code",
   "execution_count": 14,
   "metadata": {},
   "outputs": [],
   "source": [
    "# change Quebec grid mix here if you need (give %)\n",
    "grid_mix_quebec = {'Electricity by coal':0,'Electricity by gas':0,'Electricity by nuclear':0,'Electricity by hydro':99.1,'Electricity by wind':0.5,\n",
    "                  'Electricity by petroleum and other oil derivatives':0.2,'Electricity by biomass and waste':0.2,'Electricity by solar photovoltaic':0,\n",
    "                  'Electricity by solar thermal':0,'Electricity by tide, wave, ocean':0,'Electricity nec':0}"
   ]
  },
  {
   "cell_type": "code",
   "execution_count": 15,
   "metadata": {
    "scrolled": true
   },
   "outputs": [],
   "source": [
    "for technology in grid_mix_quebec.keys():\n",
    "    new_a.loc[('QC',technology),('QC','grid_mix')] = grid_mix_quebec[technology]/100"
   ]
  },
  {
   "cell_type": "code",
   "execution_count": 20,
   "metadata": {},
   "outputs": [],
   "source": [
    "new_a.loc[('QC','grid_mix'),[i for i in new_a.columns if 'QC' == i[0]]] = new_a.loc[[i for i in new_a.index if 'Electricity' in i[1] and 'CA' == i[0]], [i for i in new_a.columns if 'QC' == i[0]]].sum()"
   ]
  },
  {
   "cell_type": "code",
   "execution_count": 23,
   "metadata": {},
   "outputs": [],
   "source": [
    "# international trade only buys products from Canada (and not from Quebec) [apply one or the other]\n",
    "new_a.loc[[i for i in new_a.index if i[0] == 'QC'],[i for i in new_a.columns if i[0] != 'QC']] = 0"
   ]
  },
  {
   "cell_type": "code",
   "execution_count": 24,
   "metadata": {},
   "outputs": [],
   "source": [
    "# international trade only buys products from Quebec (and not from Canada) [apply one or the other]\n",
    "new_a.loc[[i for i in new_a.index if i[0] == 'CA'],[i for i in new_a.columns if i[0] != 'CA']] = 0"
   ]
  },
  {
   "cell_type": "code",
   "execution_count": 25,
   "metadata": {},
   "outputs": [],
   "source": [
    "# no interprovince trade\n",
    "new_a.loc[[i for i in new_a.index if i[0] == 'CA'],[i for i in new_a.columns if i[0] == 'QC']] = 0"
   ]
  },
  {
   "cell_type": "code",
   "execution_count": 26,
   "metadata": {},
   "outputs": [],
   "source": [
    "with open('C://Users/Maxime/Desktop/Thesis/BD_conso_QC/technology_matrix.pickle','wb') as f:\n",
    "    pickle.dump(new_a, f)"
   ]
  },
  {
   "cell_type": "code",
   "execution_count": null,
   "metadata": {},
   "outputs": [],
   "source": []
  }
 ],
 "metadata": {
  "kernelspec": {
   "display_name": "Python 3",
   "language": "python",
   "name": "python3"
  },
  "language_info": {
   "codemirror_mode": {
    "name": "ipython",
    "version": 3
   },
   "file_extension": ".py",
   "mimetype": "text/x-python",
   "name": "python",
   "nbconvert_exporter": "python",
   "pygments_lexer": "ipython3",
   "version": "3.6.8"
  }
 },
 "nbformat": 4,
 "nbformat_minor": 2
}
