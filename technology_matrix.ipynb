{
 "cells": [
  {
   "cell_type": "markdown",
   "metadata": {},
   "source": [
    "First, we import the three modules necessary in this notebook."
   ]
  },
  {
   "cell_type": "code",
   "execution_count": 3,
   "metadata": {},
   "outputs": [],
   "source": [
    "import pymrio\n",
    "import pandas as pd\n",
    "import pickle"
   ]
  },
  {
   "cell_type": "markdown",
   "metadata": {},
   "source": [
    "- pandas and numpy are libraries focused on data analysis\n",
    "- pickle allows to save and export data produced from notebook to notebook\n",
    "- pymrio is a library that transforms the .CSV files of EXIOBASE into pandas.dataframe, easier to manipulate"
   ]
  },
  {
   "cell_type": "markdown",
   "metadata": {},
   "source": [
    "You'll need to download a version of EXIOBASE3 to use it. Fear not! It's free. You just need to register here: https://www.exiobase.eu/ and extract the base year you prefer (in this project we use 2011) and make sure to choose the pxp version (and not the ixi version).\n",
    "\n",
    "\n",
    "Then enter the path to your **unzipped** EXIOBASE folder below:"
   ]
  },
  {
   "cell_type": "code",
   "execution_count": 4,
   "metadata": {},
   "outputs": [],
   "source": [
    "#path_to_exiobase_unzipped_folder = 'my_own_path/IOT_2011_pxp/'\n",
    "path_to_exiobase_unzipped_folder = 'C://Users/Maxime/Desktop/Thesis/Bdd/EXIOBASE/monetary/exiobase3.4/IOT_2011_pxp/'\n",
    "io = pymrio.parse_exiobase3(path_to_exiobase_unzipped_folder)"
   ]
  },
  {
   "cell_type": "markdown",
   "metadata": {},
   "source": [
    "We make a copy of the technology matrix of EXIOBASE."
   ]
  },
  {
   "cell_type": "code",
   "execution_count": 53,
   "metadata": {},
   "outputs": [],
   "source": [
    "extended_exio = io.A.copy()"
   ]
  },
  {
   "cell_type": "markdown",
   "metadata": {},
   "source": [
    "We copy the rows and columns of Canada ('CA') and add them to the extended_exio dataframe"
   ]
  },
  {
   "cell_type": "code",
   "execution_count": 54,
   "metadata": {},
   "outputs": [],
   "source": [
    "extended_exio = pd.concat([extended_exio, extended_exio.loc[:,[i for i in io.A.columns if i[0] == 'CA']]],axis=1)\n",
    "extended_exio = pd.concat([extended_exio, extended_exio.loc[[i for i in io.A.columns if i[0] == 'CA'],:]],axis=0)"
   ]
  },
  {
   "cell_type": "markdown",
   "metadata": {},
   "source": [
    "We rename the last set of products to 'QC' instead of having two 'CA'."
   ]
  },
  {
   "cell_type": "code",
   "execution_count": 55,
   "metadata": {
    "scrolled": true
   },
   "outputs": [],
   "source": [
    "countries = io.get_regions().tolist()\n",
    "countries.append('QC')\n",
    "extended_exio.index = pd.MultiIndex.from_product([countries,io.get_sectors()],names=('region', 'sector'))\n",
    "extended_exio.columns = pd.MultiIndex.from_product([countries,io.get_sectors()],names=('region', 'sector'))"
   ]
  },
  {
   "cell_type": "markdown",
   "metadata": {},
   "source": [
    "We assume that the only average technolgoy that differs greatly between Quebec and the other provinces of Canada is the electricity generation. We will thus replace the average grid mix of Canada currently used by our Quebec economy by a new grid mix that reflects Quebec's own grid mix.\n",
    "\n",
    "For that, we first introduce a QC grid_mix technology in the extended_exio dataframe (both row and column) that will be empty for now."
   ]
  },
  {
   "cell_type": "code",
   "execution_count": 56,
   "metadata": {},
   "outputs": [],
   "source": [
    "# new column\n",
    "extended_exio[('QC','grid_mix')] = pd.Series(0, extended_exio.index)\n",
    "# new row\n",
    "extended_exio = pd.concat([extended_exio,pd.DataFrame(0,pd.MultiIndex.from_product([['QC'],['grid_mix']],names=('region', 'sector')),extended_exio.columns)],axis=0)"
   ]
  },
  {
   "cell_type": "markdown",
   "metadata": {},
   "source": [
    "We then populate that QC grid mix technology according to existing electricity generation sectors of Exiobase. Here we consider that Quebec's grid mix is 99.1% hydro, 0.5% wind, 0.2 petrol and 0.2 biomass."
   ]
  },
  {
   "cell_type": "code",
   "execution_count": 57,
   "metadata": {},
   "outputs": [],
   "source": [
    "# you can change Quebec grid mix here if you want (give %)\n",
    "grid_mix_quebec = {'Electricity by coal':0,'Electricity by gas':0,'Electricity by nuclear':0,'Electricity by hydro':99.1,'Electricity by wind':0.5,\n",
    "                  'Electricity by petroleum and other oil derivatives':0.2,'Electricity by biomass and waste':0.2,'Electricity by solar photovoltaic':0,\n",
    "                  'Electricity by solar thermal':0,'Electricity by tide, wave, ocean':0,'Electricity nec':0}"
   ]
  },
  {
   "cell_type": "markdown",
   "metadata": {},
   "source": [
    "We introduce our newly defined QC grid mix in extended_exio"
   ]
  },
  {
   "cell_type": "code",
   "execution_count": 58,
   "metadata": {
    "scrolled": true
   },
   "outputs": [],
   "source": [
    "for technology in grid_mix_quebec.keys():\n",
    "    extended_exio.loc[('QC',technology),('QC','grid_mix')] = grid_mix_quebec[technology]/100"
   ]
  },
  {
   "cell_type": "markdown",
   "metadata": {},
   "source": [
    "We can see that the QC grid mix is supplied with electricity from Quebec. However, keep in mind that this electricity from quebec is just a copy of the canadien electricity. Although the grid mix has been changed, the technologies behind are considered the same, i.e., the hydro-electricity is considered the same across Canada."
   ]
  },
  {
   "cell_type": "code",
   "execution_count": 59,
   "metadata": {
    "scrolled": true
   },
   "outputs": [
    {
     "data": {
      "text/plain": [
       "region  sector                                            \n",
       "QC      Electricity by hydro                                  0.991\n",
       "        Electricity by wind                                   0.005\n",
       "        Electricity by petroleum and other oil derivatives    0.002\n",
       "        Electricity by biomass and waste                      0.002\n",
       "Name: (QC, grid_mix), dtype: float64"
      ]
     },
     "execution_count": 59,
     "metadata": {},
     "output_type": "execute_result"
    }
   ],
   "source": [
    "extended_exio.loc[:,('QC','grid_mix')][extended_exio.loc[:,('QC','grid_mix')]!=0]"
   ]
  },
  {
   "cell_type": "markdown",
   "metadata": {},
   "source": [
    "Even though we created the grid mix recipe, it is currently not used by the Quebec economy:"
   ]
  },
  {
   "cell_type": "code",
   "execution_count": 60,
   "metadata": {
    "scrolled": true
   },
   "outputs": [
    {
     "data": {
      "text/plain": [
       "sector\n",
       "Paddy rice                                                                              0.0\n",
       "Wheat                                                                                   0.0\n",
       "Cereal grains nec                                                                       0.0\n",
       "Vegetables, fruit, nuts                                                                 0.0\n",
       "Oil seeds                                                                               0.0\n",
       "Sugar cane, sugar beet                                                                  0.0\n",
       "Plant-based fibers                                                                      0.0\n",
       "Crops nec                                                                               0.0\n",
       "Cattle                                                                                  0.0\n",
       "Pigs                                                                                    0.0\n",
       "Poultry                                                                                 0.0\n",
       "Meat animals nec                                                                        0.0\n",
       "Animal products nec                                                                     0.0\n",
       "Raw milk                                                                                0.0\n",
       "Wool, silk-worm cocoons                                                                 0.0\n",
       "Manure (conventional treatment)                                                         0.0\n",
       "Manure (biogas treatment)                                                               0.0\n",
       "Products of forestry, logging and related services (02)                                 0.0\n",
       "Fish and other fishing products; services incidental of fishing (05)                    0.0\n",
       "Anthracite                                                                              0.0\n",
       "Coking Coal                                                                             0.0\n",
       "Other Bituminous Coal                                                                   0.0\n",
       "Sub-Bituminous Coal                                                                     0.0\n",
       "Patent Fuel                                                                             0.0\n",
       "Lignite/Brown Coal                                                                      0.0\n",
       "BKB/Peat Briquettes                                                                     0.0\n",
       "Peat                                                                                    0.0\n",
       "Crude petroleum and services related to crude oil extraction, excluding surveying       0.0\n",
       "Natural gas and services related to natural gas extraction, excluding surveying         0.0\n",
       "Natural Gas Liquids                                                                     0.0\n",
       "                                                                                       ... \n",
       "Other business services (74)                                                            0.0\n",
       "Public administration and defence services; compulsory social security services (75)    0.0\n",
       "Education services (80)                                                                 0.0\n",
       "Health and social work services (85)                                                    0.0\n",
       "Food waste for treatment: incineration                                                  0.0\n",
       "Paper waste for treatment: incineration                                                 0.0\n",
       "Plastic waste for treatment: incineration                                               0.0\n",
       "Intert/metal waste for treatment: incineration                                          0.0\n",
       "Textiles waste for treatment: incineration                                              0.0\n",
       "Wood waste for treatment: incineration                                                  0.0\n",
       "Oil/hazardous waste for treatment: incineration                                         0.0\n",
       "Food waste for treatment: biogasification and land application                          0.0\n",
       "Paper waste for treatment: biogasification and land application                         0.0\n",
       "Sewage sludge for treatment: biogasification and land application                       0.0\n",
       "Food waste for treatment: composting and land application                               0.0\n",
       "Paper and wood waste for treatment: composting and land application                     0.0\n",
       "Food waste for treatment: waste water treatment                                         0.0\n",
       "Other waste for treatment: waste water treatment                                        0.0\n",
       "Food waste for treatment: landfill                                                      0.0\n",
       "Paper for treatment: landfill                                                           0.0\n",
       "Plastic waste for treatment: landfill                                                   0.0\n",
       "Inert/metal/hazardous waste for treatment: landfill                                     0.0\n",
       "Textiles waste for treatment: landfill                                                  0.0\n",
       "Wood waste for treatment: landfill                                                      0.0\n",
       "Membership organisation services n.e.c. (91)                                            0.0\n",
       "Recreational, cultural and sporting services (92)                                       0.0\n",
       "Other services (93)                                                                     0.0\n",
       "Private households with employed persons (95)                                           0.0\n",
       "Extra-territorial organizations and bodies                                              0.0\n",
       "grid_mix                                                                                0.0\n",
       "Name: (QC, grid_mix), Length: 201, dtype: float64"
      ]
     },
     "execution_count": 60,
     "metadata": {},
     "output_type": "execute_result"
    }
   ],
   "source": [
    "extended_exio.loc[('QC','grid_mix'),'QC']"
   ]
  },
  {
   "cell_type": "markdown",
   "metadata": {},
   "source": [
    "Let's remedy that by allocating the canadian electricity used by the Quebec economy to the QC grid mix:"
   ]
  },
  {
   "cell_type": "code",
   "execution_count": 61,
   "metadata": {
    "scrolled": true
   },
   "outputs": [],
   "source": [
    "extended_exio.loc[('QC','grid_mix'),'QC'] = extended_exio.loc[[i for i in extended_exio.index if 'Electricity' in i[1] and 'CA' == i[0]],'QC'].sum().values"
   ]
  },
  {
   "cell_type": "markdown",
   "metadata": {},
   "source": [
    "Now we see that the QC grid mix is used by Quebec's economy:"
   ]
  },
  {
   "cell_type": "code",
   "execution_count": 63,
   "metadata": {
    "scrolled": true
   },
   "outputs": [
    {
     "data": {
      "text/plain": [
       "sector\n",
       "Paddy rice                                                                              1.406268e-03\n",
       "Wheat                                                                                   3.711377e-03\n",
       "Cereal grains nec                                                                       4.744554e-03\n",
       "Vegetables, fruit, nuts                                                                 5.376579e-03\n",
       "Oil seeds                                                                               3.248464e-03\n",
       "Sugar cane, sugar beet                                                                  1.529783e-03\n",
       "Plant-based fibers                                                                      1.559345e-03\n",
       "Crops nec                                                                               1.309083e-02\n",
       "Cattle                                                                                  9.884977e-03\n",
       "Pigs                                                                                    1.168992e-02\n",
       "Poultry                                                                                 9.096332e-03\n",
       "Meat animals nec                                                                        4.288068e-03\n",
       "Animal products nec                                                                     1.955533e-02\n",
       "Raw milk                                                                                3.732369e-02\n",
       "Wool, silk-worm cocoons                                                                 8.253321e-10\n",
       "Manure (conventional treatment)                                                         0.000000e+00\n",
       "Manure (biogas treatment)                                                               0.000000e+00\n",
       "Products of forestry, logging and related services (02)                                 1.273758e-03\n",
       "Fish and other fishing products; services incidental of fishing (05)                    2.167018e-03\n",
       "Anthracite                                                                              0.000000e+00\n",
       "Coking Coal                                                                             1.381749e-06\n",
       "Other Bituminous Coal                                                                   1.446454e-06\n",
       "Sub-Bituminous Coal                                                                     1.381749e-06\n",
       "Patent Fuel                                                                             8.957446e-03\n",
       "Lignite/Brown Coal                                                                      2.665028e-05\n",
       "BKB/Peat Briquettes                                                                     9.410640e-03\n",
       "Peat                                                                                    4.550395e-03\n",
       "Crude petroleum and services related to crude oil extraction, excluding surveying       3.207523e-03\n",
       "Natural gas and services related to natural gas extraction, excluding surveying         1.581708e-07\n",
       "Natural Gas Liquids                                                                     1.581639e-07\n",
       "                                                                                            ...     \n",
       "Other business services (74)                                                            6.922046e-04\n",
       "Public administration and defence services; compulsory social security services (75)    9.911236e-03\n",
       "Education services (80)                                                                 1.742900e-11\n",
       "Health and social work services (85)                                                    2.636595e-03\n",
       "Food waste for treatment: incineration                                                  4.528973e-04\n",
       "Paper waste for treatment: incineration                                                 3.085447e-04\n",
       "Plastic waste for treatment: incineration                                               1.115981e-05\n",
       "Intert/metal waste for treatment: incineration                                          9.416282e-05\n",
       "Textiles waste for treatment: incineration                                              1.294701e-04\n",
       "Wood waste for treatment: incineration                                                  3.331808e-09\n",
       "Oil/hazardous waste for treatment: incineration                                         9.348977e-09\n",
       "Food waste for treatment: biogasification and land application                          2.176425e-04\n",
       "Paper waste for treatment: biogasification and land application                         1.379006e-09\n",
       "Sewage sludge for treatment: biogasification and land application                       1.610731e-03\n",
       "Food waste for treatment: composting and land application                               2.242069e-03\n",
       "Paper and wood waste for treatment: composting and land application                     2.687153e-03\n",
       "Food waste for treatment: waste water treatment                                         7.260994e-05\n",
       "Other waste for treatment: waste water treatment                                        1.405983e-04\n",
       "Food waste for treatment: landfill                                                      1.045515e-03\n",
       "Paper for treatment: landfill                                                           1.044971e-03\n",
       "Plastic waste for treatment: landfill                                                   1.124577e-03\n",
       "Inert/metal/hazardous waste for treatment: landfill                                     1.122393e-03\n",
       "Textiles waste for treatment: landfill                                                  8.183966e-04\n",
       "Wood waste for treatment: landfill                                                      5.258561e-04\n",
       "Membership organisation services n.e.c. (91)                                            1.481039e-02\n",
       "Recreational, cultural and sporting services (92)                                       2.089339e-03\n",
       "Other services (93)                                                                     3.823309e-03\n",
       "Private households with employed persons (95)                                           0.000000e+00\n",
       "Extra-territorial organizations and bodies                                              0.000000e+00\n",
       "grid_mix                                                                                0.000000e+00\n",
       "Name: (QC, grid_mix), Length: 201, dtype: float64"
      ]
     },
     "execution_count": 63,
     "metadata": {},
     "output_type": "execute_result"
    }
   ],
   "source": [
    "extended_exio.loc[('QC','grid_mix'),'QC']"
   ]
  },
  {
   "cell_type": "markdown",
   "metadata": {},
   "source": [
    "Final steps, we need to deal with imports and exports of the Quebec economy."
   ]
  },
  {
   "cell_type": "markdown",
   "metadata": {},
   "source": [
    "For international trade, we could not separate commodities bought from/by Quebec from Canada. We thus assume that international trade will only occur with Canada."
   ]
  },
  {
   "cell_type": "code",
   "execution_count": 23,
   "metadata": {},
   "outputs": [],
   "source": [
    "extended_exio.loc['QC',io.get_regions()]=0"
   ]
  },
  {
   "cell_type": "markdown",
   "metadata": {},
   "source": [
    "Unfortunately, we did not find any data on interprovince trade. We thus assume that there is no interprovince trade. All quebecers will thus not be able to buy Canadian products in this IO table. And, to make matters worst, since international trade is only connected to Canada, Quebecers will **only** buy products from Quebec. Remember though, that all technologies are identical between our version of Quebec's economy and Canada's economy as a whole albeit with a different grid mix."
   ]
  },
  {
   "cell_type": "code",
   "execution_count": 69,
   "metadata": {},
   "outputs": [],
   "source": [
    "extended_exio.loc['CA','QC'] = 0"
   ]
  },
  {
   "cell_type": "markdown",
   "metadata": {},
   "source": [
    "We use the pickle library to store the newly extended EXIOBASE version with Quebec included. We will use that pickle in other notebooks to use the matrix we just created here."
   ]
  },
  {
   "cell_type": "code",
   "execution_count": 26,
   "metadata": {},
   "outputs": [],
   "source": [
    "with open('one_matrix_to_rule_them_all.pickle','wb') as f:\n",
    "    pickle.dump(extended_exio, f)"
   ]
  },
  {
   "cell_type": "code",
   "execution_count": null,
   "metadata": {},
   "outputs": [],
   "source": []
  }
 ],
 "metadata": {
  "kernelspec": {
   "display_name": "Python 3",
   "language": "python",
   "name": "python3"
  },
  "language_info": {
   "codemirror_mode": {
    "name": "ipython",
    "version": 3
   },
   "file_extension": ".py",
   "mimetype": "text/x-python",
   "name": "python",
   "nbconvert_exporter": "python",
   "pygments_lexer": "ipython3",
   "version": "3.6.8"
  }
 },
 "nbformat": 4,
 "nbformat_minor": 2
}
