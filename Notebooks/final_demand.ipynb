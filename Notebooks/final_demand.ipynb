{
 "cells": [
  {
   "cell_type": "markdown",
   "metadata": {},
   "source": [
    "This notebook describes the generation of the final demand matrix for Quebec households. It needs data on Quebec households consumption and it needs a technology matrix separating Quebec from Canada (produced in the technolgoy_matrix.ipynb notebook)."
   ]
  },
  {
   "cell_type": "markdown",
   "metadata": {},
   "source": [
    "Import the libraries"
   ]
  },
  {
   "cell_type": "code",
   "execution_count": 1,
   "metadata": {},
   "outputs": [],
   "source": [
    "import pandas as pd\n",
    "import numpy as np\n",
    "import pymrio"
   ]
  },
  {
   "cell_type": "markdown",
   "metadata": {},
   "source": [
    "Create the pymrio object:"
   ]
  },
  {
   "cell_type": "code",
   "execution_count": 4,
   "metadata": {
    "scrolled": true
   },
   "outputs": [],
   "source": [
    "path_to_exiobase_unzipped_folder = 'my_own_path/exiobase3.4/IOT_2011_pxp/'\n",
    "io = pymrio.parse_exiobase3(path_to_exiobase_unzipped_folder)"
   ]
  },
  {
   "cell_type": "markdown",
   "metadata": {},
   "source": [
    "Load the technology matrix created in the technology_matrix.ipynb notebook"
   ]
  },
  {
   "cell_type": "code",
   "execution_count": 5,
   "metadata": {},
   "outputs": [],
   "source": [
    "A = np.load('one_matrix_to_rule_them_all.npy')"
   ]
  },
  {
   "cell_type": "code",
   "execution_count": 6,
   "metadata": {
    "scrolled": true
   },
   "outputs": [],
   "source": [
    "# the storage in npy does not include indexes\n",
    "index = pd.MultiIndex.from_product([io.get_regions().tolist()+['QC'],io.get_sectors()],names=['region','sector'])\n",
    "index = index.tolist()+[('QC','grid_mix')]\n",
    "A = pd.DataFrame(A, index=index, columns=index)"
   ]
  },
  {
   "cell_type": "markdown",
   "metadata": {},
   "source": [
    "We load the Per_quintile_desagregated tab of the Concordance.xlsx excel file in the Data folder which matches data used from Statistics Quebec to EXIOBASE."
   ]
  },
  {
   "cell_type": "code",
   "execution_count": 10,
   "metadata": {
    "scrolled": true
   },
   "outputs": [],
   "source": [
    "df = pd.read_excel('path_to_mordor/Data/Concordance.xlsx','Per_quintile_desaggregated')"
   ]
  },
  {
   "cell_type": "markdown",
   "metadata": {},
   "source": [
    "When data was unavailable or negligeable, Statistics Quebec assigned the value 'F'. We set that value to zero."
   ]
  },
  {
   "cell_type": "code",
   "execution_count": 11,
   "metadata": {},
   "outputs": [],
   "source": [
    "list_quintile = ['1st_quintile','2nd_quintile','3rd_quintile','4th_quintile','5th_quintile']\n",
    "\n",
    "commodities = io.get_sectors().tolist()\n",
    "commodities.append('grid_mix')\n",
    "\n",
    "# remove the Fs of the quebec stats excel\n",
    "df = df.mask(df=='F')\n",
    "df.loc[:,list_quintile] = df.loc[:,list_quintile].fillna(0)"
   ]
  },
  {
   "cell_type": "markdown",
   "metadata": {},
   "source": [
    "We loop through all quintiles.\n",
    "\n",
    "For each each quintile, their national (or rather provincial here) consumption in terms of EXIOBASE sector is stored in the dictionary consumption_quintile.\n",
    "\n",
    "There are some conflicts with classifications which were dealt as follows:\n",
    "- meat consumption in Quebec is assumed to be the same as the average in Canada\n",
    "- dairy and eggs were separated using the ratio 0.93:0.07 (https://www.mapaq.gouv.qc.ca/fr/Publications/Bottin_consommation_distribution.pdf)\n",
    "- heat, water and electricity were supplied by 70% electricity, 7% gas, 8% fuel oil and 15% wood (http://energie.hec.ca/wp-content/uploads/2014/12/EEQ2015_FINAL_2015.pdf). Since water is free in Quebec (for the households) and that we are using IO to model the impacts, it corresponds to a 0% share for water.\n",
    "- the purchase and use of one's car was split between \"Motor vehicles, trailers and semi-trailers\", \"Motor Gasoline\", \"Gas/Diesel Oil\" and \"Sale, maintenance, repair of motor vehicles, motor vehicles parts, motorcycles, motor cycles parts and accessoiries\". The same distribution as Canada was used for Quebec.\n",
    "- for other cases of agregation, the value spent by the household is divided equally between the corresponding EXIOBASE sectors.\n",
    "\n",
    "The statistics from Quebec do not include the purchase of waste treatment services, the same consumption of waste treatment services as in Canada was adopted for Quebec households.\n",
    "\n",
    "Similarly, no data on importation by Quebec households was available and we thus adapted it from Canada' households.\n",
    "\n",
    "We assume that all products are bought and fabricated in Quebec. There is no interaction between Quebec's consumption and other provinces. It constitutes a reasonable assumption as inter-provincial trade is negligible (1% of total imports): http://www.stat.gouv.qc.ca/statistiques/economie/commerce-exterieur/imp_pays.htm"
   ]
  },
  {
   "cell_type": "code",
   "execution_count": 17,
   "metadata": {
    "scrolled": true
   },
   "outputs": [],
   "source": [
    "total_Y = pd.DataFrame(0,index=A.index,columns=list_quintile)\n",
    "\n",
    "for quintile in list_quintile:\n",
    "    consumption_quintile = {}\n",
    "    for commodity in commodities:\n",
    "        consumption_quintile[commodity] = 0\n",
    "    for product in df.index:\n",
    "        if product == 'Viande':\n",
    "            list_viande = ['Products of meat cattle','Products of meat pigs','Products of meat poultry','Meat products nec']\n",
    "            meat_vector = io.Y.loc[:,('CA','Final consumption expenditure by households')].groupby('sector').sum().loc[list_viande]/io.Y.loc[:,('CA','Final consumption expenditure by households')].groupby('sector').sum().loc[list_viande].sum()*df.loc[product,quintile]\n",
    "            for meat in meat_vector.index:\n",
    "                consumption_quintile[meat] = meat_vector[meat]\n",
    "        elif product == 'Produits laitiers et oeufs':\n",
    "            consumption_quintile['Dairy products'] = 0.93 * df.loc[product, quintile]\n",
    "            consumption_quintile['Food products nec'] = 0.07 * df.loc[product, quintile]\n",
    "        elif product == 'Eau, combustibles et électricité pour logement principal':\n",
    "            consumption_quintile['grid_mix'] = 0.70 * df.loc[product, quintile]\n",
    "            consumption_quintile['Distribution services of gaseous fuels through mains'] = 0.07 * df.loc[product, quintile]\n",
    "            consumption_quintile['Heavy Fuel Oil'] = 0.08 * df.loc[product, quintile]\n",
    "            consumption_quintile['Products of forestry, logging and related services (02)'] = 0.15 * df.loc[product, quintile]\n",
    "        elif product == 'Automobiles, fourgonnettes et camions à usage privé':\n",
    "            list_automobile_expenses = ['Motor vehicles, trailers and semi-trailers (34)','Motor Gasoline','Gas/Diesel Oil','Sale, maintenance, repair of motor vehicles, motor vehicles parts, motorcycles, motor cycles parts and accessoiries']\n",
    "            for expense in list_automobile_expenses:\n",
    "                consumption_quintile[expense] = (io.Y.loc[[i for i in io.Y.index if i[1] == expense],('CA','Final consumption expenditure by households')].sum()/\n",
    "                                  io.Y.loc[[i for i in io.Y.index if i[1] in list_automobile_expenses],\n",
    "                                           ('CA','Final consumption expenditure by households')].sum()*\n",
    "                                  df.loc[[product,\"Utilisation d'automobiles, de fourgonnettes et de camions\"],quintile].sum())\n",
    "        # we just aggregated buying cars with using cars, so pass cause it's already included\n",
    "        elif product == \"Utilisation d'automobiles, de fourgonnettes et de camions\":\n",
    "            pass\n",
    "        else:\n",
    "            try:\n",
    "                if np.isnan(df.loc[product, df.columns[-3]]):\n",
    "                    consumption_quintile[df.loc[product, 'EXIOBASE sector(s)']] += df.loc[product, quintile]\n",
    "            except:\n",
    "                # if it pops an error it means we have to split the purchases\n",
    "                try:\n",
    "                    if np.isnan(df.loc[product, df.columns[-2]]):\n",
    "                        consumption_quintile[df.loc[product, 'EXIOBASE sector(s)']] += df.loc[product, quintile]/2\n",
    "                        consumption_quintile[df.loc[product, df.columns[-3]]] += df.loc[product, quintile]/2\n",
    "                except:\n",
    "                    if np.isnan(df.loc[product, df.columns[-1]]):\n",
    "                        consumption_quintile[df.loc[product, 'EXIOBASE sector(s)']] += df.loc[product, quintile]/3\n",
    "                        consumption_quintile[df.loc[product, df.columns[-3]]] += df.loc[product, quintile]/3\n",
    "                        consumption_quintile[df.loc[product, df.columns[-2]]] += df.loc[product, quintile]/3\n",
    "    \n",
    "    # add Canadian data for waste management triggered by households consumption\n",
    "    waste_treatment_sectors = [i[1] for i in io.A.index if ('waste for treatment' in i[1] or 'landfill' in i[1] or 'sludge' in i[1]) and i[0] == 'CA']\n",
    "    serie = (io.Y.loc[:,('CA','Final consumption expenditure by households')].groupby('sector').sum().loc[waste_treatment_sectors]/\n",
    "            io.Y.loc[:,('CA','Final consumption expenditure by households')].sum().sum()*sum(consumption_quintile.values()))\n",
    "    for index in serie.index:\n",
    "        consumption_quintile[index] = serie.loc[index]\n",
    "    \n",
    "    # copy canadian consumption and scale the imports to the consumption of one household from Quebec\n",
    "    dff = io.Y.loc[:, ('CA','Final consumption expenditure by households')].copy()\n",
    "    total_commodity = {}\n",
    "    foo = dff.groupby('sector').sum()\n",
    "    for index in foo.index:\n",
    "        total_commodity[index] = foo[index]\n",
    "    for index in dff.index:\n",
    "        if total_commodity[index[1]] != 0:\n",
    "            dff[index] = dff[index] / total_commodity[index[1]] * consumption_quintile[index[1]]\n",
    "\n",
    "    # just add 201 products for Quebec, to distinguish them from CA\n",
    "    Y = pd.DataFrame(dff)\n",
    "    Y.columns = ['Households Quebec']\n",
    "    df_to_add = Y.loc['CA']\n",
    "    df_to_add = df_to_add.append(pd.DataFrame(consumption_quintile['grid_mix'],index=[('QC','grid_mix')],columns=['Households Quebec']))\n",
    "    df_to_add = df_to_add.set_index(pd.MultiIndex.from_product([['QC'],commodities]))\n",
    "    Y = pd.concat([Y, df_to_add])\n",
    "    Y.loc['CA'] = 0\n",
    "    \n",
    "    total_Y[quintile] = Y\n",
    "\n",
    "np.save('final_demand',total_Y)"
   ]
  },
  {
   "cell_type": "markdown",
   "metadata": {},
   "source": [
    "The resulting final demand vector is stored in a .npy format."
   ]
  }
 ],
 "metadata": {
  "kernelspec": {
   "display_name": "Python 3",
   "language": "python",
   "name": "python3"
  },
  "language_info": {
   "codemirror_mode": {
    "name": "ipython",
    "version": 3
   },
   "file_extension": ".py",
   "mimetype": "text/x-python",
   "name": "python",
   "nbconvert_exporter": "python",
   "pygments_lexer": "ipython3",
   "version": "3.6.8"
  }
 },
 "nbformat": 4,
 "nbformat_minor": 2
}
